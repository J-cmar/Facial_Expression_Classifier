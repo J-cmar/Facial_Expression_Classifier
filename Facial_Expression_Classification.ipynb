{
 "cells": [
  {
   "cell_type": "markdown",
   "metadata": {},
   "source": [
    "### Imports for model"
   ]
  },
  {
   "cell_type": "code",
   "execution_count": null,
   "metadata": {},
   "outputs": [],
   "source": [
    "import pandas as pd\n",
    "import torch\n",
    "import numpy as np\n",
    "from sklearn.model_selection import train_test_split\n",
    "import torch.nn as nn\n",
    "import torch.optim as optim\n",
    "import torch.nn.functional as F\n",
    "from torchvision.transforms import v2\n",
    "from torchvision import transforms\n",
    "from tqdm.notebook import tqdm\n",
    "from torch.optim.lr_scheduler import ReduceLROnPlateau\n",
    "from torch.utils.data import DataLoader, Dataset\n"
   ]
  },
  {
   "cell_type": "markdown",
   "metadata": {},
   "source": [
    "### Download Data and convert to tensors"
   ]
  },
  {
   "cell_type": "code",
   "execution_count": null,
   "metadata": {},
   "outputs": [],
   "source": [
    "#load the data from the project directory\n",
    "train_data = pd.read_csv('./data/train_data.csv', header=None)\n",
    "train_target = pd.read_csv('./data/train_target.csv', header=None)\n",
    "test_data = pd.read_csv('./data/test_data.csv', header=None)\n",
    "\n",
    "#divide into training and validation, test size 0.2 to use 20% of the data for validation\n",
    "train_data, valid_data, train_target, valid_target = train_test_split(train_data, train_target, test_size=.2,random_state=42)\n",
    "\n",
    "# Convert to tensors, and reshape sizes to be 48x48:\n",
    "X_train_tensor = torch.Tensor(train_data.values).view(-1, 1,48,48)\n",
    "Y_train_tensor = torch.Tensor(train_target.values).squeeze().long()\n",
    "X_val_tensor = torch.Tensor(valid_data.values).view(-1, 1,48,48)\n",
    "Y_val_tensor = torch.Tensor(valid_target.values).squeeze().long()\n",
    "\n",
    "X_test_tensor = torch.Tensor(test_data.values).view(-1,1,48,48)\n",
    "\n",
    "# Get MEAN and STD for normalization during later transformations:\n",
    "training_mean = torch.mean(X_train_tensor / 255)\n",
    "training_std= torch.std(X_train_tensor / 255)"
   ]
  },
  {
   "cell_type": "markdown",
   "metadata": {},
   "source": [
    "### Create custom datasets"
   ]
  },
  {
   "cell_type": "code",
   "execution_count": null,
   "metadata": {},
   "outputs": [],
   "source": [
    "# Define class to customize datasets\n",
    "class ClassifierDataset(Dataset):\n",
    "    def __init__(self, data, target, transform=None):\n",
    "        self.data = data\n",
    "        self.target = target\n",
    "        self.transform = transform\n",
    "\n",
    "    def __len__(self):\n",
    "        return len(self.data)\n",
    "\n",
    "    # function that returns the image and target, and applies transformation when given a sample\n",
    "    def __getitem__(self, idx):\n",
    "        image, target = self.data[idx], self.target[idx]\n",
    "\n",
    "        if self.transform:\n",
    "            image = self.transform(image)\n",
    "\n",
    "        return image, target"
   ]
  },
  {
   "cell_type": "code",
   "execution_count": null,
   "metadata": {},
   "outputs": [],
   "source": [
    "# Randomize images and convert to tensors, whilst also normalizing\n",
    "transform = transforms.Compose([\n",
    "    transforms.ToPILImage(),\n",
    "    transforms.RandomHorizontalFlip(),\n",
    "    transforms.RandomRotation(10),\n",
    "    transforms.RandomResizedCrop(48, scale=(0.8, 1.0)),\n",
    "    transforms.ColorJitter(brightness=0.2, contrast=0.2, saturation=0.2, hue=0.1),\n",
    "    transforms.ToTensor(),\n",
    "    transforms.Normalize(mean=[training_mean], std=[training_std])\n",
    "])\n",
    "\n"
   ]
  },
  {
   "cell_type": "markdown",
   "metadata": {},
   "source": [
    "### Custom datasets and dataloaders"
   ]
  },
  {
   "cell_type": "code",
   "execution_count": null,
   "metadata": {},
   "outputs": [],
   "source": [
    "# Create Custom datasets and dataloaders, use transform to randomize and normalize\n",
    "train_dataset = ClassifierDataset(X_train_tensor, Y_train_tensor, transform=transform)\n",
    "val_dataset = ClassifierDataset(X_val_tensor, Y_val_tensor, transform=transform)\n",
    "\n",
    "train_loader = DataLoader(train_dataset, batch_size=64, shuffle=True)\n",
    "val_loader = DataLoader(val_dataset, batch_size=64, shuffle=False)"
   ]
  },
  {
   "cell_type": "markdown",
   "metadata": {},
   "source": [
    "### Define Model"
   ]
  },
  {
   "cell_type": "code",
   "execution_count": null,
   "metadata": {},
   "outputs": [],
   "source": [
    "# Define custom CNN model\n",
    "class CNN(nn.Module):\n",
    "    def __init__(self):\n",
    "        super(CNN, self).__init__()\n",
    "        self.conv1 = nn.Conv2d(1, 32, kernel_size=3, padding=1)\n",
    "        self.bn1 = nn.BatchNorm2d(32)\n",
    "        self.conv2 = nn.Conv2d(32, 64, kernel_size=3, padding=1)\n",
    "        self.bn2 = nn.BatchNorm2d(64)\n",
    "        self.conv3 = nn.Conv2d(64, 128, kernel_size=3, padding=1)\n",
    "        self.bn3 = nn.BatchNorm2d(128)\n",
    "        self.conv4 = nn.Conv2d(128, 256, kernel_size=3, padding=1)\n",
    "        self.bn4 = nn.BatchNorm2d(256)\n",
    "        self.pool = nn.MaxPool2d(kernel_size=2, padding=0)\n",
    "        self.fc1 = nn.Linear(256 * 3 * 3, 512)\n",
    "        self.fc2 = nn.Linear(512, 256)\n",
    "        self.fc3 = nn.Linear(256, 3)\n",
    "        self.dropout = nn.Dropout(p=0.5)\n",
    "\n",
    "    def forward(self, x):\n",
    "        x = self.pool(F.relu(self.bn1(self.conv1(x))))\n",
    "        x = self.pool(F.relu(self.bn2(self.conv2(x))))\n",
    "        x = self.pool(F.relu(self.bn3(self.conv3(x))))\n",
    "        x = self.pool(F.relu(self.bn4(self.conv4(x))))\n",
    "        x = x.view(-1, 256 * 3 * 3)\n",
    "        x = F.relu(self.fc1(x))\n",
    "        x = self.dropout(x)\n",
    "        x = F.relu(self.fc2(x))\n",
    "        x = self.fc3(x)\n",
    "        return x"
   ]
  },
  {
   "cell_type": "markdown",
   "metadata": {},
   "source": [
    "### Begin Training"
   ]
  },
  {
   "cell_type": "code",
   "execution_count": null,
   "metadata": {},
   "outputs": [],
   "source": [
    "# hyperparameters\n",
    "EPOCHS = 100\n",
    "LEARNING_RATE = 0.001\n",
    "threshold = 10\n",
    "leeway = 0\n",
    "highest_accuracy = 0\n",
    "\n",
    "# Create model, loss, and optimizer, use scheduler for adaptive LR\n",
    "model = CNN()\n",
    "\n",
    "# add custom weights for classes:\n",
    "class_counts = torch.tensor([3995, 7215, 4965], dtype=torch.float)\n",
    "class_weights = 1/class_counts\n",
    "class_weights = class_weights / class_weights.sum()\n",
    "\n",
    "criterion = nn.CrossEntropyLoss(weight=class_weights)\n",
    "optimizer = optim.Adam(model.parameters(), lr=LEARNING_RATE, weight_decay=1e-5)\n",
    "scheduler = ReduceLROnPlateau(optimizer, mode='min', factor=0.1, patience=3)\n",
    "\n",
    "# Start training with TQDM for progress visualization\n",
    "for epoch in tqdm(range(EPOCHS)):\n",
    "    \n",
    "    # begin training\n",
    "    model.train()\n",
    "    for x_train_batch, y_train_batch in train_loader:\n",
    "        optimizer.zero_grad()\n",
    "        y_predictions = model(x_train_batch)\n",
    "        loss = criterion(y_predictions, y_train_batch)\n",
    "        loss.backward()\n",
    "        optimizer.step()\n",
    "\n",
    "    # begin evaluations\n",
    "    model.eval()\n",
    "    with torch.no_grad():\n",
    "        val_epoch_loss, val_epoch_accuracy = 0, 0\n",
    "        total_samples = 0\n",
    "        for x_val_batch, y_val_batch in val_loader:\n",
    "            y_val_pred = model(x_val_batch)\n",
    "            val_epoch_loss += criterion(y_val_pred, y_val_batch).item()\n",
    "            _, predicted = torch.max(y_val_pred, 1)\n",
    "            val_epoch_accuracy += (predicted == y_val_batch).sum().item()\n",
    "            total_samples += y_val_batch.size(0)\n",
    "\n",
    "        val_accuracy = val_epoch_accuracy / total_samples\n",
    "        val_epoch_loss /= len(val_loader)\n",
    "        scheduler.step(val_epoch_loss)\n",
    "\n",
    "        # Output progress per epoch\n",
    "        print(f'Epoch {epoch + 1}/{EPOCHS}, Loss: {loss.item():.4f}, Validation Loss: {val_epoch_loss:.4f}, Validation Accuracy: {val_accuracy:.4f}')\n",
    "        print(f'Highest val accuracy so far: {highest_accuracy}')\n",
    "\n",
    "        # Check for improvement\n",
    "        if val_accuracy > highest_accuracy:\n",
    "            highest_accuracy, leeway = val_accuracy, 0\n",
    "            torch.save(model.state_dict(), 'experimentalModel.pt')\n",
    "            torch.save(optimizer.state_dict(), 'experimentalOptimizer.pt')\n",
    "        else:\n",
    "            leeway += 1\n",
    "            if leeway >= threshold:\n",
    "                # Reload the best model\n",
    "                print(\"Reloading best model and resuming training...\")\n",
    "                model.load_state_dict(torch.load('experimentalModel.pt'))\n",
    "                optimizer.load_state_dict(torch.load('experimentalOptimizer.pt'))\n",
    "\n",
    "                # Optional: Reset the scheduler if you want it to adapt from this point\n",
    "                scheduler = ReduceLROnPlateau(optimizer, mode='min', factor=0.1, patience=3)\n",
    "                \n",
    "                # Reset the leeway counter and continue training\n",
    "                leeway = 0\n"
   ]
  },
  {
   "cell_type": "code",
   "execution_count": null,
   "metadata": {},
   "outputs": [],
   "source": [
    "# Create custom dataset for test tensor, fill labels with 0's because we dont have test_target\n",
    "test_dataset = ClassifierDataset(X_test_tensor, torch.zeros(len(X_test_tensor)), transform=transform)\n",
    "test_loader = DataLoader(test_dataset, batch_size=64, shuffle=False)\n",
    "\n",
    "# begin evaluations, load best model\n",
    "model.load_state_dict(torch.load('experimentalModel.pt', map_location='cpu'))\n",
    "model.eval()\n",
    "predictions = []\n",
    "\n",
    "with torch.no_grad():\n",
    "    for x_test_batch, y_test_batch in test_loader:\n",
    "        \n",
    "        outputs = model(x_test_batch)\n",
    "        _, predicted = torch.max(outputs, 1)\n",
    "        predictions.extend(predicted.numpy())\n",
    "\n",
    "# Save outputs to csv\n",
    "submission_df = pd.DataFrame({'Id': range(len(predictions)), 'Category': predictions})\n",
    "submission_df.to_csv('experimentalOutput.csv', index=False)"
   ]
  },
  {
   "cell_type": "code",
   "execution_count": null,
   "metadata": {},
   "outputs": [],
   "source": []
  }
 ],
 "metadata": {
  "kernelspec": {
   "display_name": "ML",
   "language": "python",
   "name": "python3"
  },
  "language_info": {
   "codemirror_mode": {
    "name": "ipython",
    "version": 3
   },
   "file_extension": ".py",
   "mimetype": "text/x-python",
   "name": "python",
   "nbconvert_exporter": "python",
   "pygments_lexer": "ipython3",
   "version": "3.12.5"
  }
 },
 "nbformat": 4,
 "nbformat_minor": 2
}
